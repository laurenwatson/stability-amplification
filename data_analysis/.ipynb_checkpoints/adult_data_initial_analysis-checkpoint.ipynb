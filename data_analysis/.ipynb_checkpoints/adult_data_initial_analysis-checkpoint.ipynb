{
 "cells": [
  {
   "cell_type": "code",
   "execution_count": 56,
   "metadata": {},
   "outputs": [],
   "source": [
    "import os,sys,inspect\n",
    "currentdir = os.path.dirname(os.path.abspath(inspect.getfile(inspect.currentframe())))\n",
    "parentdir = os.path.dirname(currentdir)\n",
    "sys.path.insert(0,parentdir) \n",
    "\n",
    "import data_utils\n",
    "import matplotlib\n",
    "import numpy\n",
    "import pandas as pd"
   ]
  },
  {
   "cell_type": "code",
   "execution_count": 57,
   "metadata": {},
   "outputs": [
    {
     "name": "stdout",
     "output_type": "stream",
     "text": [
      "Missing values: False\n"
     ]
    }
   ],
   "source": [
    "#load data and map <50k to 0, >50k to 1\n",
    "\n",
    "#load data\n",
    "df = pd.read_csv(\"../data/adult/adult.data\",1,\",\")\n",
    "df.columns = [\"age\", \"workclass\", \"fnlwgt\", \"education\", \"education-num\",\n",
    "    \"marital-status\", \"occupation\", \"relationship\", \"race\", \"gender\",\n",
    "    \"capital-gain\", \"capital-loss\", \"hpw\", \"country\", \"income\"]\n",
    "\n",
    "#change income to 0/1 \n",
    "income_map={' <=50K':0,' >50K':1}\n",
    "df['income']=df['income'].map(income_map).astype(int)\n",
    "\n",
    "#check missing values\n",
    "print('Missing values:', df.isnull().values.any())"
   ]
  },
  {
   "cell_type": "code",
   "execution_count": 58,
   "metadata": {},
   "outputs": [
    {
     "name": "stdout",
     "output_type": "stream",
     "text": [
      "Shape:  (32560, 15)\n",
      "   age          workclass  fnlwgt   education  education-num  \\\n",
      "0   50   Self-emp-not-inc   83311   Bachelors             13   \n",
      "1   38            Private  215646     HS-grad              9   \n",
      "\n",
      "        marital-status          occupation    relationship    race gender  \\\n",
      "0   Married-civ-spouse     Exec-managerial         Husband   White   Male   \n",
      "1             Divorced   Handlers-cleaners   Not-in-family   White   Male   \n",
      "\n",
      "   capital-gain  capital-loss  hpw         country  income  \n",
      "0             0             0   13   United-States       0  \n",
      "1             0             0   40   United-States       0  \n"
     ]
    }
   ],
   "source": [
    "#view example data\n",
    "print('Shape: ',df.shape)\n",
    "print(df.head(2))"
   ]
  },
  {
   "cell_type": "code",
   "execution_count": 59,
   "metadata": {},
   "outputs": [
    {
     "name": "stdout",
     "output_type": "stream",
     "text": [
      "Positive class:  0.24081695331695332\n",
      "Negative class:  0.7591830466830467\n"
     ]
    }
   ],
   "source": [
    "#check negative/positive class split\n",
    "\n",
    "print('Positive class: ', df['income'].sum()/df['income'].count())\n",
    "print('Negative class: ', 1-df['income'].sum()/df['income'].count())"
   ]
  },
  {
   "cell_type": "code",
   "execution_count": 60,
   "metadata": {},
   "outputs": [
    {
     "data": {
      "text/html": [
       "<div>\n",
       "<style scoped>\n",
       "    .dataframe tbody tr th:only-of-type {\n",
       "        vertical-align: middle;\n",
       "    }\n",
       "\n",
       "    .dataframe tbody tr th {\n",
       "        vertical-align: top;\n",
       "    }\n",
       "\n",
       "    .dataframe thead th {\n",
       "        text-align: right;\n",
       "    }\n",
       "</style>\n",
       "<table border=\"1\" class=\"dataframe\">\n",
       "  <thead>\n",
       "    <tr style=\"text-align: right;\">\n",
       "      <th></th>\n",
       "      <th>age</th>\n",
       "      <th>workclass</th>\n",
       "      <th>fnlwgt</th>\n",
       "      <th>education</th>\n",
       "      <th>education-num</th>\n",
       "      <th>marital-status</th>\n",
       "      <th>occupation</th>\n",
       "      <th>relationship</th>\n",
       "      <th>race</th>\n",
       "      <th>gender</th>\n",
       "      <th>hpw</th>\n",
       "      <th>country</th>\n",
       "      <th>income</th>\n",
       "    </tr>\n",
       "  </thead>\n",
       "  <tbody>\n",
       "    <tr>\n",
       "      <th>0</th>\n",
       "      <td>50</td>\n",
       "      <td>Self-emp-not-inc</td>\n",
       "      <td>83311</td>\n",
       "      <td>Bachelors</td>\n",
       "      <td>13</td>\n",
       "      <td>Married-civ-spouse</td>\n",
       "      <td>Exec-managerial</td>\n",
       "      <td>Husband</td>\n",
       "      <td>White</td>\n",
       "      <td>Male</td>\n",
       "      <td>13</td>\n",
       "      <td>United-States</td>\n",
       "      <td>0</td>\n",
       "    </tr>\n",
       "    <tr>\n",
       "      <th>1</th>\n",
       "      <td>38</td>\n",
       "      <td>Private</td>\n",
       "      <td>215646</td>\n",
       "      <td>HS-grad</td>\n",
       "      <td>9</td>\n",
       "      <td>Divorced</td>\n",
       "      <td>Handlers-cleaners</td>\n",
       "      <td>Not-in-family</td>\n",
       "      <td>White</td>\n",
       "      <td>Male</td>\n",
       "      <td>40</td>\n",
       "      <td>United-States</td>\n",
       "      <td>0</td>\n",
       "    </tr>\n",
       "  </tbody>\n",
       "</table>\n",
       "</div>"
      ],
      "text/plain": [
       "   age          workclass  fnlwgt   education  education-num  \\\n",
       "0   50   Self-emp-not-inc   83311   Bachelors             13   \n",
       "1   38            Private  215646     HS-grad              9   \n",
       "\n",
       "        marital-status          occupation    relationship    race gender  \\\n",
       "0   Married-civ-spouse     Exec-managerial         Husband   White   Male   \n",
       "1             Divorced   Handlers-cleaners   Not-in-family   White   Male   \n",
       "\n",
       "   hpw         country  income  \n",
       "0   13   United-States       0  \n",
       "1   40   United-States       0  "
      ]
     },
     "execution_count": 60,
     "metadata": {},
     "output_type": "execute_result"
    }
   ],
   "source": [
    "# remove capital-gain and capital-loss, seem to be mostly 0s\n",
    "df.drop(\"capital-gain\", axis=1,  inplace=True)\n",
    "df.drop(\"capital-loss\", axis=1,  inplace=True)\n",
    "\n",
    "df.head(2)"
   ]
  },
  {
   "cell_type": "code",
   "execution_count": 52,
   "metadata": {},
   "outputs": [],
   "source": [
    "#save target variable 'income' and delete from database\n",
    "\n",
    "y=df['income']\n",
    "df.drop(\"income\", axis=1,  inplace=True)"
   ]
  },
  {
   "cell_type": "code",
   "execution_count": 61,
   "metadata": {},
   "outputs": [],
   "source": [
    "#convert remaining categorical variables to dummies\n",
    "\n",
    "categorical_columns=[\"workclass\", \"education\",\n",
    "    \"marital-status\", \"occupation\", \"relationship\", \"race\", \"gender\", \"country\"]\n",
    "df = pd.get_dummies(df, columns=categorical_columns)"
   ]
  },
  {
   "cell_type": "code",
   "execution_count": 65,
   "metadata": {},
   "outputs": [
    {
     "name": "stdout",
     "output_type": "stream",
     "text": [
      "Shape:  32560\n"
     ]
    },
    {
     "data": {
      "text/html": [
       "<div>\n",
       "<style scoped>\n",
       "    .dataframe tbody tr th:only-of-type {\n",
       "        vertical-align: middle;\n",
       "    }\n",
       "\n",
       "    .dataframe tbody tr th {\n",
       "        vertical-align: top;\n",
       "    }\n",
       "\n",
       "    .dataframe thead th {\n",
       "        text-align: right;\n",
       "    }\n",
       "</style>\n",
       "<table border=\"1\" class=\"dataframe\">\n",
       "  <thead>\n",
       "    <tr style=\"text-align: right;\">\n",
       "      <th></th>\n",
       "      <th>age</th>\n",
       "      <th>fnlwgt</th>\n",
       "      <th>education-num</th>\n",
       "      <th>hpw</th>\n",
       "      <th>income</th>\n",
       "      <th>workclass_ ?</th>\n",
       "      <th>workclass_ Federal-gov</th>\n",
       "      <th>workclass_ Local-gov</th>\n",
       "      <th>workclass_ Never-worked</th>\n",
       "      <th>workclass_ Private</th>\n",
       "      <th>...</th>\n",
       "      <th>country_ Portugal</th>\n",
       "      <th>country_ Puerto-Rico</th>\n",
       "      <th>country_ Scotland</th>\n",
       "      <th>country_ South</th>\n",
       "      <th>country_ Taiwan</th>\n",
       "      <th>country_ Thailand</th>\n",
       "      <th>country_ Trinadad&amp;Tobago</th>\n",
       "      <th>country_ United-States</th>\n",
       "      <th>country_ Vietnam</th>\n",
       "      <th>country_ Yugoslavia</th>\n",
       "    </tr>\n",
       "  </thead>\n",
       "  <tbody>\n",
       "    <tr>\n",
       "      <th>0</th>\n",
       "      <td>50</td>\n",
       "      <td>83311</td>\n",
       "      <td>13</td>\n",
       "      <td>13</td>\n",
       "      <td>0</td>\n",
       "      <td>0</td>\n",
       "      <td>0</td>\n",
       "      <td>0</td>\n",
       "      <td>0</td>\n",
       "      <td>0</td>\n",
       "      <td>...</td>\n",
       "      <td>0</td>\n",
       "      <td>0</td>\n",
       "      <td>0</td>\n",
       "      <td>0</td>\n",
       "      <td>0</td>\n",
       "      <td>0</td>\n",
       "      <td>0</td>\n",
       "      <td>1</td>\n",
       "      <td>0</td>\n",
       "      <td>0</td>\n",
       "    </tr>\n",
       "    <tr>\n",
       "      <th>1</th>\n",
       "      <td>38</td>\n",
       "      <td>215646</td>\n",
       "      <td>9</td>\n",
       "      <td>40</td>\n",
       "      <td>0</td>\n",
       "      <td>0</td>\n",
       "      <td>0</td>\n",
       "      <td>0</td>\n",
       "      <td>0</td>\n",
       "      <td>1</td>\n",
       "      <td>...</td>\n",
       "      <td>0</td>\n",
       "      <td>0</td>\n",
       "      <td>0</td>\n",
       "      <td>0</td>\n",
       "      <td>0</td>\n",
       "      <td>0</td>\n",
       "      <td>0</td>\n",
       "      <td>1</td>\n",
       "      <td>0</td>\n",
       "      <td>0</td>\n",
       "    </tr>\n",
       "  </tbody>\n",
       "</table>\n",
       "<p>2 rows × 107 columns</p>\n",
       "</div>"
      ],
      "text/plain": [
       "   age  fnlwgt  education-num  hpw  income  workclass_ ?  \\\n",
       "0   50   83311             13   13       0             0   \n",
       "1   38  215646              9   40       0             0   \n",
       "\n",
       "   workclass_ Federal-gov  workclass_ Local-gov  workclass_ Never-worked  \\\n",
       "0                       0                     0                        0   \n",
       "1                       0                     0                        0   \n",
       "\n",
       "   workclass_ Private         ...           country_ Portugal  \\\n",
       "0                   0         ...                           0   \n",
       "1                   1         ...                           0   \n",
       "\n",
       "   country_ Puerto-Rico  country_ Scotland  country_ South  country_ Taiwan  \\\n",
       "0                     0                  0               0                0   \n",
       "1                     0                  0               0                0   \n",
       "\n",
       "   country_ Thailand  country_ Trinadad&Tobago  country_ United-States  \\\n",
       "0                  0                         0                       1   \n",
       "1                  0                         0                       1   \n",
       "\n",
       "   country_ Vietnam  country_ Yugoslavia  \n",
       "0                 0                    0  \n",
       "1                 0                    0  \n",
       "\n",
       "[2 rows x 107 columns]"
      ]
     },
     "execution_count": 65,
     "metadata": {},
     "output_type": "execute_result"
    }
   ],
   "source": [
    "# new data view\n",
    "\n",
    "print('Shape: ',df.shape[0])\n",
    "df.head(2)"
   ]
  }
 ],
 "metadata": {
  "kernelspec": {
   "display_name": "Python 3",
   "language": "python",
   "name": "python3"
  },
  "language_info": {
   "codemirror_mode": {
    "name": "ipython",
    "version": 3
   },
   "file_extension": ".py",
   "mimetype": "text/x-python",
   "name": "python",
   "nbconvert_exporter": "python",
   "pygments_lexer": "ipython3",
   "version": "3.6.4"
  }
 },
 "nbformat": 4,
 "nbformat_minor": 2
}
